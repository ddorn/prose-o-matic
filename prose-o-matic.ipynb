{
 "cells": [
  {
   "cell_type": "code",
   "execution_count": 56,
   "metadata": {},
   "outputs": [
    {
     "name": "stdout",
     "output_type": "stream",
     "text": [
      "The autoreload extension is already loaded. To reload it, use:\n",
      "  %reload_ext autoreload\n"
     ]
    }
   ],
   "source": [
    "from main import *\n",
    "\n",
    "%load_ext autoreload\n",
    "%autoreload 2"
   ]
  },
  {
   "cell_type": "code",
   "execution_count": 2,
   "metadata": {},
   "outputs": [
    {
     "name": "stdout",
     "output_type": "stream",
     "text": [
      "32\n"
     ]
    }
   ],
   "source": [
    "s = \"\"\"Hello, world! This  #$#  is_a-test. 1234. This is another sentence. \n",
    "This is a third sentence. This is a fourth sentence.\n",
    "This is a fifth sentence. This is a sixth sentence. This is a seventh sentence.\"\"\"\n",
    "print(len(set(s)))"
   ]
  },
  {
   "cell_type": "code",
   "execution_count": 77,
   "metadata": {},
   "outputs": [
    {
     "name": "stdout",
     "output_type": "stream",
     "text": [
      "No more pairs with count > 1\n",
      "tensor([[15, 24, 46, 46, 35, 16, 18, 19, 35, 29, 46, 42, 17, 12, 18, 18, 27, 37,\n",
      "         27, 18,  4, 39, 23, 28, 26, 24, 40, 26, 25, 18, 34, 33, 21, 20, 25, 12,\n",
      "          4, 11, 43, 35, 13, 24, 29,  8, 25, 18, 22,  6,  4, 11, 18, 13, 45, 29,\n",
      "         42,  8, 25, 12,  4, 11, 14, 35, 36, 29, 13,  8, 25, 22,  6,  4, 11, 14,\n",
      "         45, 30, 13,  8, 25, 12,  4, 11,  2, 45, 38, 13,  8, 25, 12,  4, 11,  2,\n",
      "         24, 32,  3, 31,  8, 25]])\n",
      "['is', 'en', ' s', 'ent', ' is', 'Th', 'This', 'ence', ' sentence', 'ce', ' sent', ' a', ' This', 'th', ' f', 'H', ',', '!', ' ', 'w', '4', '3', '\\n', 'a', 'e', '.', 't', '#', '-', 'r', 'f', 'h', 'v', '2', '1', 'o', 'u', '$', 'x', '_', 's', 'T', 'd', 'n', 'c', 'i', 'l']\n",
      "Hello, world! This  #$#  is_a-test. 1234. This is another sentence. \n",
      "This is a third sentence. This is a fourth sentence.\n",
      "This is a fifth sentence. This is a sixth sentence. This is a seventh sentence.\n"
     ]
    },
    {
     "data": {
      "text/plain": [
       "True"
      ]
     },
     "execution_count": 77,
     "metadata": {},
     "output_type": "execute_result"
    }
   ],
   "source": [
    "bpe = BPE.train_from_text(s, 60)\n",
    "t = bpe.tokenize([s])\n",
    "print(t)\n",
    "print(bpe.tokens)\n",
    "r = bpe.detokenize(t)[0]\n",
    "print(r)\n",
    "r == s"
   ]
  },
  {
   "cell_type": "code",
   "execution_count": 30,
   "metadata": {},
   "outputs": [
    {
     "name": "stdout",
     "output_type": "stream",
     "text": [
      "1 472 16\n",
      "2 920 48\n",
      "3 1432 144\n",
      "4 1912 208\n",
      "5 2200 80\n",
      "6 2872 336\n",
      "7 3256 304\n",
      "8 3704 336\n",
      "9 4216 432\n",
      "10 4216 16\n",
      "11 4792 176\n",
      "12 5432 400\n",
      "13 6136 688\n",
      "14 6136 272\n",
      "15 6936 656\n",
      "16 6936 240\n",
      "17 7832 720\n",
      "18 7832 304\n",
      "19 8856 912\n",
      "20 8856 496\n",
      "21 8856 80\n",
      "22 10008 816\n",
      "23 10008 400\n",
      "24 11288 1264\n",
      "25 11288 848\n",
      "26 11288 432\n",
      "27 11288 16\n",
      "28 12728 1040\n",
      "29 12728 624\n"
     ]
    }
   ],
   "source": [
    "from sys import getsizeof\n",
    "\n",
    "for i in range(1, 30):\n",
    "    list_size = getsizeof(list(stream_words(s * i))) \n",
    "    print(i, list_size, list_size - getsizeof(tuple(stream_words(s*i))))"
   ]
  }
 ],
 "metadata": {
  "kernelspec": {
   "display_name": "Python 3",
   "language": "python",
   "name": "python3"
  },
  "language_info": {
   "codemirror_mode": {
    "name": "ipython",
    "version": 3
   },
   "file_extension": ".py",
   "mimetype": "text/x-python",
   "name": "python",
   "nbconvert_exporter": "python",
   "pygments_lexer": "ipython3",
   "version": "3.10.9"
  },
  "orig_nbformat": 4,
  "vscode": {
   "interpreter": {
    "hash": "e7370f93d1d0cde622a1f8e1c04877d8463912d04d973331ad4851f04de6915a"
   }
  }
 },
 "nbformat": 4,
 "nbformat_minor": 2
}
