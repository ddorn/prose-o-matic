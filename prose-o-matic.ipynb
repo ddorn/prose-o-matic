{
 "cells": [
  {
   "cell_type": "code",
   "execution_count": 7,
   "metadata": {},
   "outputs": [
    {
     "name": "stdout",
     "output_type": "stream",
     "text": [
      "The autoreload extension is already loaded. To reload it, use:\n",
      "  %reload_ext autoreload\n"
     ]
    }
   ],
   "source": [
    "%load_ext autoreload\n",
    "%autoreload 2\n",
    "\n",
    "try:\n",
    "    from main import *\n",
    "    from bpe import BPE, ByteTokenizer\n",
    "except ImportError:\n",
    "    # We are on colab, we need to paste main.py in a cell below\n",
    "    pass\n",
    "\n",
    "from dataclasses import dataclass, field\n",
    "from pathlib import Path\n",
    "from pprint import pprint\n",
    "from typing import Iterator, Tuple, List\n",
    "from time import time\n",
    "from collections import Counter\n",
    "import random\n",
    "\n",
    "import torch\n",
    "from torch import tensor\n",
    "import jsonlines\n",
    "import matplotlib.pyplot as plt\n",
    "\n",
    "# %load_ext line_profiler"
   ]
  },
  {
   "cell_type": "code",
   "execution_count": null,
   "metadata": {},
   "outputs": [],
   "source": [
    "%pip install einops torchtyping  # not on kaggle nor colab"
   ]
  },
  {
   "cell_type": "code",
   "execution_count": 1,
   "metadata": {},
   "outputs": [
    {
     "name": "stdout",
     "output_type": "stream",
     "text": [
      "Using device cuda\n"
     ]
    }
   ],
   "source": [
    "# DATA = Path('/extra/diego/the-pile/')\n",
    "# DATASET = '29.jsonl'\n",
    "DATA = Path('.')\n",
    "DATASET = 'small-pile.jsonl'\n",
    "\n",
    "device = 'cuda' if torch.cuda.is_available() else 'cpu'\n",
    "print(f'Using device {device}')"
   ]
  },
  {
   "cell_type": "code",
   "execution_count": 2,
   "metadata": {},
   "outputs": [
    {
     "data": {
      "text/plain": [
       "1000000"
      ]
     },
     "execution_count": 2,
     "metadata": {},
     "output_type": "execute_result"
    }
   ],
   "source": [
    "def dataset(deterministic=True, max_length=1_000_000, file_name: str = DATASET) -> Iterator[str]:\n",
    "    total_length = 0\n",
    "    while True:\n",
    "        for doc in jsonlines.open(DATA / file_name):\n",
    "            doc = doc['text'] if isinstance(doc, dict) else doc\n",
    "            if deterministic or (not deterministic and random.random() < 0.01):\n",
    "                total_length += len(doc)\n",
    "                if total_length > max_length > 0:\n",
    "                    doc = doc[:max_length - total_length]\n",
    "                yield doc\n",
    "\n",
    "            if total_length >= max_length > 0:\n",
    "                return\n",
    "\n",
    "\n",
    "def get_text(length: int, from_=dataset(False, -1)) -> str:\n",
    "    text = ''\n",
    "    while len(text) < length:\n",
    "        text += next(from_)\n",
    "    return text[:length]\n",
    "\n",
    "sum(map(len, dataset()))"
   ]
  },
  {
   "attachments": {},
   "cell_type": "markdown",
   "metadata": {},
   "source": [
    "# Tokenizer\n"
   ]
  },
  {
   "cell_type": "code",
   "execution_count": null,
   "metadata": {},
   "outputs": [],
   "source": [
    "bpe = BPE.train_from_text(dataset(), 10000, 2)\n",
    "bpe.save(input('Save to:') + '.pt')"
   ]
  },
  {
   "cell_type": "code",
   "execution_count": null,
   "metadata": {},
   "outputs": [],
   "source": [
    "bpe = BPE.load('bpe.pt')"
   ]
  },
  {
   "cell_type": "code",
   "execution_count": null,
   "metadata": {},
   "outputs": [],
   "source": [
    "pprint(bpe.token_frequencies)"
   ]
  },
  {
   "attachments": {},
   "cell_type": "markdown",
   "metadata": {},
   "source": [
    "## Performance\n"
   ]
  },
  {
   "cell_type": "code",
   "execution_count": null,
   "metadata": {},
   "outputs": [],
   "source": [
    "import timeit\n",
    "\n",
    "bpe = BPE.load('bpe.pt')"
   ]
  },
  {
   "cell_type": "code",
   "execution_count": null,
   "metadata": {},
   "outputs": [],
   "source": [
    "# Compute time per call for different batch sizes and text sizes\n",
    "results = {}\n",
    "for batch_size in [1, 10, 100]:\n",
    "    results[batch_size] = {}\n",
    "    for text_size in range(2, 10):\n",
    "        text_size = 4**text_size\n",
    "        if text_size * batch_size > 10**6:\n",
    "            continue\n",
    "        # Start with a small number of runs\n",
    "        num_runs = 5\n",
    "        t = 0.0\n",
    "        while t < 0.2:\n",
    "            # Time the function call using the current number of runs\n",
    "            t = timeit.timeit(\"bpe.tokenize(texts)\",\n",
    "                              setup=\"texts = [get_text(text_size) for _ in range(batch_size)]\",\n",
    "                              globals=globals(),\n",
    "                              number=num_runs)\n",
    "            # Double the number of runs for the next iteration\n",
    "            num_runs *= 2\n",
    "        # Store the time and number of runs in the results dictionary\n",
    "        results[batch_size][text_size] = (t / num_runs, num_runs)\n",
    "        print(f'batch_size={batch_size}, text_size={text_size}: {t / num_runs:.4f}s per call')"
   ]
  },
  {
   "cell_type": "code",
   "execution_count": null,
   "metadata": {},
   "outputs": [],
   "source": [
    "# Plot results\n",
    "for block_size, data in results.items():\n",
    "    xs = [block_size * b for b in data]\n",
    "    ys = [t for t, _ in data.values()]\n",
    "    plt.loglog(xs, ys, label=f'batch_size={block_size}')\n",
    "plt.legend()\n",
    "plt.xlabel('Total text size')\n",
    "plt.ylabel('Time per call (s)')\n"
   ]
  },
  {
   "attachments": {},
   "cell_type": "markdown",
   "metadata": {},
   "source": [
    "## Comparison with gpt2 tokenizer\n"
   ]
  },
  {
   "cell_type": "code",
   "execution_count": null,
   "metadata": {},
   "outputs": [],
   "source": [
    "# Print all tokens in GPT-2 vocabulary\n",
    "from transformers import GPT2Tokenizer\n",
    "\n",
    "tokenizer = GPT2Tokenizer.from_pretrained('gpt2')\n",
    "gpt_tokens = [tokenizer.decode([i]) for i in range(tokenizer.vocab_size)]"
   ]
  },
  {
   "cell_type": "code",
   "execution_count": null,
   "metadata": {},
   "outputs": [],
   "source": [
    "' Python' in gpt_tokens"
   ]
  },
  {
   "attachments": {},
   "cell_type": "markdown",
   "metadata": {},
   "source": [
    "# Training\n"
   ]
  },
  {
   "cell_type": "code",
   "execution_count": 300,
   "metadata": {},
   "outputs": [],
   "source": [
    "@dataclass\n",
    "class Perfs:\n",
    "    loss: List[float] = field(default_factory=list)\n",
    "\n",
    "    def plot(self, smoothing=10, log=False, last=-1):\n",
    "        if last > 0:\n",
    "            loss = self.loss[-last:]\n",
    "        else:\n",
    "            loss = self.loss\n",
    "        smoothed = torch.conv1d(torch.tensor(loss).unsqueeze(0),\n",
    "                                     torch.ones(1,1, smoothing) / smoothing).squeeze()\n",
    "        if log:\n",
    "            plt.semilogy(smoothed.numpy())\n",
    "        else:\n",
    "            plt.plot(smoothed.numpy())\n",
    "        plt.xlabel('Batch')\n",
    "        plt.ylabel('Loss')\n",
    "\n",
    "\n",
    "# @typechecked\n",
    "def train(model,\n",
    "          optim,\n",
    "          data_generator: Iterator[Tuple[TT['batch', 'token', int], TT['batch', 'token', int]]],\n",
    "          batch_size: int = 32,\n",
    "          max_time: float = 60.0,\n",
    "          perfs: Perfs = None):\n",
    "    if perfs is None:\n",
    "        perfs = Perfs()\n",
    "\n",
    "    model.train()\n",
    "    tokens_processed = 0\n",
    "    lost = sum(perfs.loss[-100:]) / 100\n",
    "    start_time = time()\n",
    "    while time() - start_time < max_time:\n",
    "        optim.zero_grad()\n",
    "\n",
    "        # Build the batch\n",
    "        xs, ys = zip(*(next(data_generator) for _ in range(batch_size)))\n",
    "        xs = torch.stack(xs).to(device)\n",
    "        ys = torch.stack(ys).to(device)\n",
    "\n",
    "        loss = model.loss(xs, ys)\n",
    "        loss.backward()\n",
    "        optim.step()\n",
    "\n",
    "        tokens_processed += xs.numel()\n",
    "        perfs.loss.append(loss.item())\n",
    "        lost = 0.99 * lost + 0.01 * loss.item()\n",
    "        if len(perfs.loss) % 100 == 0:\n",
    "            print(f'Batch {len(perfs.loss)} loss: {lost:.4f} ({tokens_processed / (time() - start_time):.0f} tokens/s)')\n",
    "\n",
    "    return perfs"
   ]
  },
  {
   "attachments": {},
   "cell_type": "markdown",
   "metadata": {},
   "source": [
    "## Case recover model\n"
   ]
  },
  {
   "cell_type": "code",
   "execution_count": 4,
   "metadata": {},
   "outputs": [],
   "source": [
    "embedding_dim = 128\n",
    "block_size = 100\n",
    "head_count = 4\n",
    "depth = 8\n",
    "\n",
    "model = UpcaseTransformer(embedding_dim, depth=depth, head_count=head_count, block_size=block_size)\n",
    "model.to(device)\n",
    "perfs = Perfs()\n",
    "optim = torch.optim.AdamW(model.parameters(), lr=1e-3)"
   ]
  },
  {
   "cell_type": "code",
   "execution_count": 5,
   "metadata": {},
   "outputs": [],
   "source": [
    "# Dataset generator\n",
    "\n",
    "if True:\n",
    "    data = '\\n'.join(dataset(False))\n",
    "    data = data.encode('utf-8')\n",
    "    data = tensor(list(data), dtype=int).to(device)\n",
    "\n",
    "def upcase_dataset(block_size: int) -> Iterator[Tuple[TT['token', int], TT['token', int]]]:\n",
    "    while True:\n",
    "        pos = random.randint(0, len(data) - block_size)\n",
    "        batch: TT['token', int] = data[pos:pos + block_size]\n",
    "\n",
    "        upper = (batch >= ord('A')) & (batch <= ord('Z'))\n",
    "        prompt = batch.clone()\n",
    "        prompt[upper] += 32\n",
    "        yield prompt, upper.long()"
   ]
  },
  {
   "cell_type": "code",
   "execution_count": 140,
   "metadata": {},
   "outputs": [
    {
     "name": "stdout",
     "output_type": "stream",
     "text": [
      "Proportion of uppercase letters: 0.036411\n",
      "Proportion of lowercase letters: 0.963589\n",
      "Weight of upcase: 27.464227843234188\n",
      "Weight of lowcase: 1.0377868572596822\n"
     ]
    }
   ],
   "source": [
    "# Find the proportion of uppercase letters in the dataset\n",
    "total = 0\n",
    "upcase = 0\n",
    "for doc in dataset(False, 1_000_000):\n",
    "    total += len(doc)\n",
    "    upcase += sum(1 for c in doc if c.isupper())\n",
    "up = upcase / total\n",
    "low = 1 - up\n",
    "\n",
    "print(\"Proportion of uppercase letters:\", up)\n",
    "print(\"Proportion of lowercase letters:\", low)\n",
    "print(\"Weight of upcase:\", 1 / up)\n",
    "print(\"Weight of lowcase:\", 1 / low)"
   ]
  },
  {
   "cell_type": "code",
   "execution_count": 18,
   "metadata": {},
   "outputs": [],
   "source": [
    "optim = torch.optim.AdamW(model.parameters(), lr=1e-4, weight_decay=1e-5)  "
   ]
  },
  {
   "cell_type": "code",
   "execution_count": 142,
   "metadata": {},
   "outputs": [],
   "source": [
    "loss = sum(perfs.loss[-100:]) / 100\n",
    "torch.save(model, f'upcase_{loss:.4f}.pt')"
   ]
  },
  {
   "cell_type": "code",
   "execution_count": 420,
   "metadata": {},
   "outputs": [
    {
     "name": "stdout",
     "output_type": "stream",
     "text": [
      "Batch 35500 loss: 0.0086 (214746 tokens/s)\n"
     ]
    },
    {
     "data": {
      "image/png": "[encoded data removed]",
      "text/plain": [
       "<Figure size 640x480 with 1 Axes>"
      ]
     },
     "metadata": {},
     "output_type": "display_data"
    }
   ],
   "source": [
    "train(model, optim, upcase_dataset(block_size), batch_size=1000, max_time=50, perfs=perfs)\n",
    "loss = sum(perfs.loss[-100:]) / 100\n",
    "# torch.save(model, f'upcase_{loss:.4f}.pt')\n",
    "perfs.plot(100, last=6000)"
   ]
  },
  {
   "cell_type": "code",
   "execution_count": 422,
   "metadata": {},
   "outputs": [
    {
     "data": {
      "image/png": "[encoded data removed]",
      "text/plain": [
       "<Figure size 640x480 with 1 Axes>"
      ]
     },
     "metadata": {},
     "output_type": "display_data"
    }
   ],
   "source": [
    "perfs.plot(10, log=0, last=6000)\n",
    "# plt.semilogy(perfs.loss[-4000:])"
   ]
  },
  {
   "cell_type": "code",
   "execution_count": 419,
   "metadata": {},
   "outputs": [
    {
     "name": "stdout",
     "output_type": "stream",
     "text": [
      "Prompt: 'd district attorney jeff rosen’s decision to pursue the death penalty.\\n\\noutside the hall of justic'\n",
      "Expect: 'd District Attorney Jeff Rosen’s decision to pursue the death penalty.\\n\\nOutside the Hall of Justic'\n",
      "Output: 'd District Attorney Jeff Rosen’s decision to pursue the death penalty.\\n\\nOutside the Hall of Justic'\n",
      "Errors:                                                                                                       \n",
      "Upcase:    u        u        u    u                                                u           u       u      \n",
      "0 differences\n"
     ]
    }
   ],
   "source": [
    "# Check if it works\n",
    "pos = random.randint(0, len(data) - block_size)\n",
    "d = data[pos:pos + block_size]\n",
    "text = bytes(d).decode(errors='replace')\n",
    "\n",
    "print(f\"Prompt: {text.lower()!r}\")\n",
    "print(f\"Expect: {text!r}\")\n",
    "\n",
    "out = repr(model.predict(text.lower()))\n",
    "probas = model(ByteTokenizer.tokenize([text.lower()], block_size))[0]\n",
    "\n",
    "diffs = ''.join(' ' if a == b else '^' for a, b in zip(repr(text), out))\n",
    "bad_diffs = ''.join(' u'[b.isupper()] for b in out)\n",
    "\n",
    "print(f\"Output: {out}\")\n",
    "print(f\"Errors: {diffs}\")\n",
    "print(f\"Upcase: {bad_diffs}\")\n",
    "print(diffs[10:-10].count('^'), 'differences')\n",
    "probas = probas.softmax(1)"
   ]
  },
  {
   "cell_type": "code",
   "execution_count": 133,
   "metadata": {},
   "outputs": [
    {
     "data": {
      "text/plain": [
       "1628162"
      ]
     },
     "execution_count": 133,
     "metadata": {},
     "output_type": "execute_result"
    }
   ],
   "source": [
    "# Size of the model\n",
    "sum(p.numel() for p in model.parameters())"
   ]
  },
  {
   "cell_type": "code",
   "execution_count": null,
   "metadata": {},
   "outputs": [],
   "source": [
    "with jsonlines.open(DATA / 'small-pile-2.jsonl', 'w') as writer:\n",
    "    for doc in dataset():\n",
    "        writer.write({'text': doc})"
   ]
  },
  {
   "attachments": {},
   "cell_type": "markdown",
   "metadata": {},
   "source": [
    "## Prompt-O-Matic v1"
   ]
  },
  {
   "cell_type": "code",
   "execution_count": null,
   "metadata": {},
   "outputs": [],
   "source": [
    "block_size = 100\n",
    "embedding_dim = 128\n",
    "model = PromptOMaticV1(\n",
    "    embedding_dim=embedding_dim,\n",
    "    depth=6,\n",
    "    head_count=4,\n",
    "    block_size=100,\n",
    ")\n",
    "model.to(device)\n",
    "perfs = Perfs()\n",
    "optim = torch.optim.AdamW(model.parameters(), lr=1e-4)"
   ]
  },
  {
   "cell_type": "code",
   "execution_count": null,
   "metadata": {},
   "outputs": [],
   "source": [
    "optim = torch.optim.AdamW(model.parameters(), lr=5e-4)"
   ]
  },
  {
   "cell_type": "code",
   "execution_count": null,
   "metadata": {},
   "outputs": [],
   "source": [
    "data = '\\n'.join(dataset(False, 100_000_000))\n",
    "data = data.encode('utf-8')\n",
    "data = tensor(list(data), dtype=int).to(device)\n",
    "\n",
    "def promptomatic_dataset(block_size: int):\n",
    "    while True:\n",
    "        pos = random.randint(0, len(data) - block_size - 1)\n",
    "        xs: TT['token', int] = data[pos:pos + block_size]\n",
    "        ys = data[pos + 1:pos + block_size + 1]\n",
    "        yield xs, ys"
   ]
  },
  {
   "cell_type": "code",
   "execution_count": null,
   "metadata": {},
   "outputs": [],
   "source": [
    "frequencies = Counter(data)"
   ]
  },
  {
   "cell_type": "code",
   "execution_count": null,
   "metadata": {},
   "outputs": [],
   "source": [
    "from main import PromptOMaticV1\n",
    "model.__class__ = PromptOMaticV1\n",
    "\n",
    "model.generate('The most important problem in the world is', 300, beams=3, n=1)"
   ]
  },
  {
   "cell_type": "code",
   "execution_count": null,
   "metadata": {},
   "outputs": [],
   "source": [
    "model.generate('Tanguy: Hello, ', 200, beams=3)"
   ]
  },
  {
   "cell_type": "code",
   "execution_count": null,
   "metadata": {},
   "outputs": [],
   "source": [
    "train(model, optim, promptomatic_dataset(block_size), max_time=600, perfs=perfs)\n",
    "\n",
    "print(model.generate('Hey Diego, do you ', 100, beams=1))\n",
    "print(torch.tensor(perfs.loss[-40:]).mean().item())\n",
    "Perfs.plot(perfs, 42)"
   ]
  },
  {
   "cell_type": "code",
   "execution_count": null,
   "metadata": {},
   "outputs": [],
   "source": [
    "Perfs.plot(perfs, 1)"
   ]
  },
  {
   "cell_type": "code",
   "execution_count": null,
   "metadata": {},
   "outputs": [],
   "source": [
    "# Parameters count\n",
    "sum(p.numel() for p in model.parameters())"
   ]
  },
  {
   "cell_type": "markdown",
   "metadata": {},
   "source": [
    "# Interpretability"
   ]
  },
  {
   "cell_type": "code",
   "execution_count": null,
   "metadata": {},
   "outputs": [],
   "source": [
    "model = PromptOMaticV1(128, 4, 4, 100)\n",
    "model.load_state_dict(torch.load('./the BOMP 1.58 .pt'))"
   ]
  },
  {
   "cell_type": "code",
   "execution_count": null,
   "metadata": {},
   "outputs": [],
   "source": [
    "# Visualizing the positional embeddings\n",
    "import matplotlib.pyplot as plt\n",
    "\n",
    "pos_emb = model.positional_embedding.weight.detach().cpu()\n",
    "tok_emb = model.embedding.weight.detach().cpu()\n",
    "\n",
    "cos_similarities = pos_emb @ pos_emb.T\n",
    "plt.figure(figsize=(10, 5))\n",
    "# plt.subplot(1, 2, 1)\n",
    "plt.imshow(pos_emb[1:])\n",
    "plt.colorbar()\n",
    "# plt.subplot(1, 2, 2)\n",
    "# plt.imshow(cos_similarities[1:, 1:])\n",
    "# plt.colorbar()"
   ]
  },
  {
   "cell_type": "code",
   "execution_count": null,
   "metadata": {},
   "outputs": [],
   "source": [
    "def plot_std_var(emb, dim=0):\n",
    "    xs = emb.mean(dim)\n",
    "    ys = emb.std(dim)\n",
    "    plt.scatter(xs, ys, c=range(len(xs)))\n",
    "    plt.xlabel('mean')\n",
    "    plt.ylabel('std')\n",
    "    plt.colorbar()\n",
    "\n",
    "def plot_both(emb1, emb2, op='std', name1='positional', name2='token'):\n",
    "    xs = getattr(emb1, op)(0)\n",
    "    ys = getattr(emb2, op)(0)\n",
    "    plt.scatter(xs, ys, c=range(len(xs)))\n",
    "    plt.xlabel(name1)\n",
    "    plt.ylabel(name2)\n",
    "    plt.title(f'{op}({name1}) vs {op}({name2})')\n",
    "    plt.colorbar()\n",
    "\n",
    "pos_emb = model.positional_embedding.weight.detach().cpu()\n",
    "tok_emb = model.embedding.weight.detach().cpu()\n",
    "\n",
    "plt.figure(figsize=(12, 12))\n",
    "plt.subplot(2, 2, 1)\n",
    "plt.title('Positional embedding')\n",
    "plot_std_var(pos_emb)\n",
    "plt.subplot(2, 2, 2)\n",
    "plot_std_var(tok_emb)\n",
    "plt.title('Token embedding')\n",
    "\n",
    "plt.subplot(2, 2, 3)\n",
    "plot_both(pos_emb, tok_emb, 'mean')\n",
    "plt.subplot(2, 2, 4)\n",
    "plot_both(pos_emb, tok_emb, 'std')\n",
    "\n"
   ]
  },
  {
   "cell_type": "code",
   "execution_count": null,
   "metadata": {},
   "outputs": [],
   "source": [
    "# Create an identity matrix with its diagonal spread out\n",
    "\n",
    "spread_eye = torch.zeros(100, 100)\n",
    "spread = 6\n",
    "for i in range(-spread, spread):\n",
    "    spread_eye += torch.diag(torch.ones(100 - abs(i)), i) * (1.5 / (abs(i + 0.5) + 1))\n",
    "\n",
    "a = torch.cat([\n",
    "    torch.zeros(pos_emb.shape[0], pos_emb.shape[1] - 50),\n",
    "    spread_eye[:, ::2]\n",
    "], dim=1)\n",
    "a[0, 128-50] = 4\n",
    "plt.imshow(a)\n",
    "plt.colorbar()"
   ]
  },
  {
   "cell_type": "code",
   "execution_count": null,
   "metadata": {},
   "outputs": [],
   "source": [
    "model.positional_embedding.weight = torch.nn.Parameter(a.to(device))\n",
    "perfs = Perfs()\n",
    "optim = torch.optim.AdamW(model.parameters(), lr=1e-4)\n",
    "model.generate(\"My name is\", 100)"
   ]
  },
  {
   "cell_type": "code",
   "execution_count": null,
   "metadata": {},
   "outputs": [],
   "source": [
    "train(model, optim, promptomatic_dataset(100), max_time=60, perfs=perfs)\n",
    "print(model.generate(\"My name is\", 100, beams=3))\n",
    "perfs.plot(42)"
   ]
  },
  {
   "cell_type": "code",
   "execution_count": null,
   "metadata": {},
   "outputs": [],
   "source": [
    "original = PromptOMaticV1(128, 4, 4, 100)\n",
    "original.load_state_dict(torch.load('./the BOMP 1.58 .pt'))\n",
    "probs = original.forward(ByteTokenizer.tokenize([\"Alice and Bob are at Christmas, Alice gives a present to \"]))\n",
    "print(probs)"
   ]
  },
  {
   "cell_type": "code",
   "execution_count": null,
   "metadata": {},
   "outputs": [],
   "source": [
    "ps = probs[0, -1].softmax(0)\n",
    "ps[ord('A')], ps[ord('B')]"
   ]
  },
  {
   "cell_type": "code",
   "execution_count": null,
   "metadata": {},
   "outputs": [],
   "source": [
    "a[a.abs() < 0.1] = 0"
   ]
  }
 ],
 "metadata": {
  "kernelspec": {
   "display_name": "prose-o-matic-08fwWdEx-py3.8",
   "language": "python",
   "name": "python3"
  },
  "language_info": {
   "codemirror_mode": {
    "name": "ipython",
    "version": 3
   },
   "file_extension": ".py",
   "mimetype": "text/x-python",
   "name": "python",
   "nbconvert_exporter": "python",
   "pygments_lexer": "ipython3",
   "version": "3.8.0 (default, Feb 25 2021, 22:10:10) \n[GCC 8.4.0]"
  },
  "orig_nbformat": 4,
  "vscode": {
   "interpreter": {
    "hash": "075261e8fdb8d7e7e544f2407b08ffa8483f977718c67ebfa0ad1b2a9ca237b2"
   }
  }
 },
 "nbformat": 4,
 "nbformat_minor": 2
}
