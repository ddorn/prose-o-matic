{
 "cells": [
  {
   "cell_type": "code",
   "execution_count": 1,
   "metadata": {},
   "outputs": [],
   "source": [
    "from main import *\n",
    "\n",
    "%load_ext autoreload\n",
    "%autoreload 2"
   ]
  },
  {
   "cell_type": "code",
   "execution_count": 2,
   "metadata": {},
   "outputs": [
    {
     "name": "stdout",
     "output_type": "stream",
     "text": [
      "32\n"
     ]
    }
   ],
   "source": [
    "s = \"\"\"Hello, world! This  #$#  is_a-test. 1234. This is another sentence. \n",
    "This is a third sentence. This is a fourth sentence.\n",
    "This is a fifth sentence. This is a sixth sentence. This is a seventh sentence.\"\"\"\n",
    "print(len(set(s)))"
   ]
  },
  {
   "cell_type": "code",
   "execution_count": 8,
   "metadata": {},
   "outputs": [
    {
     "name": "stdout",
     "output_type": "stream",
     "text": [
      "Added token is with count 14\n",
      "H·e·l·l·o•,• ·w·o·r·l·d•!• ·T·h·i·s• · ·#·$·#· • ·i·s•_•a•-•t·e·s·t•.• ·1•2•3•4•.• ·T·h·i·s• ·i·s• ·a·n·o·t·h·e·r• ·s·e·n·t·e·n·c·e•.· ·\n",
      "•T·h·i·s• ·i·s• ·a• ·t·h·i·r·d• ·s·e·n·t·e·n·c·e•.• ·T·h·i·s• ·i·s• ·a• ·f·o·u·r·t·h• ·s·e·n·t·e·n·c·e•.·\n",
      "•T·h·i·s• ·i·s• ·a• ·f·i·f·t·h• ·s·e·n·t·e·n·c·e•.• ·T·h·i·s• ·i·s• ·a• ·s·i·x·t·h• ·s·e·n·t·e·n·c·e•.• ·T·h·i·s• ·i·s• ·a• ·s·e·v·e·n·t·h• ·s·e·n·t·e·n·c·e•.\n",
      "Added token en with count 13\n",
      "H·e·l·l·o•,• ·w·o·r·l·d•!• ·T·h·is• · ·#·$·#· • ·is•_•a•-•t·e·s·t•.• ·1•2•3•4•.• ·T·h·is• ·is• ·a·n·o·t·h·e·r• ·s·e·n·t·e·n·c·e•.· ·\n",
      "•T·h·is• ·is• ·a• ·t·h·i·r·d• ·s·e·n·t·e·n·c·e•.• ·T·h·is• ·is• ·a• ·f·o·u·r·t·h• ·s·e·n·t·e·n·c·e•.·\n",
      "•T·h·is• ·is• ·a• ·f·i·f·t·h• ·s·e·n·t·e·n·c·e•.• ·T·h·is• ·is• ·a• ·s·i·x·t·h• ·s·e·n·t·e·n·c·e•.• ·T·h·is• ·is• ·a• ·s·e·v·e·n·t·h• ·s·e·n·t·e·n·c·e•.\n",
      "Added token  s with count 8\n",
      "H·e·l·l·o•,• ·w·o·r·l·d•!• ·T·h·is• · ·#·$·#· • ·is•_•a•-•t·e·s·t•.• ·1•2•3•4•.• ·T·h·is• ·is• ·a·n·o·t·h·e·r• ·s·en·t·en·c·e•.· ·\n",
      "•T·h·is• ·is• ·a• ·t·h·i·r·d• ·s·en·t·en·c·e•.• ·T·h·is• ·is• ·a• ·f·o·u·r·t·h• ·s·en·t·en·c·e•.·\n",
      "•T·h·is• ·is• ·a• ·f·i·f·t·h• ·s·en·t·en·c·e•.• ·T·h·is• ·is• ·a• ·s·i·x·t·h• ·s·en·t·en·c·e•.• ·T·h·is• ·is• ·a• ·s·e·v·en·t·h• ·s·en·t·en·c·e•.\n",
      "Added token Th with count 7\n",
      "H·e·l·l·o•,• ·w·o·r·l·d•!• ·T·h·is• · ·#·$·#· • ·is•_•a•-•t·e·s·t•.• ·1•2•3•4•.• ·T·h·is• ·is• ·a·n·o·t·h·e·r• s·en·t·en·c·e•.· ·\n",
      "•T·h·is• ·is• ·a• ·t·h·i·r·d• s·en·t·en·c·e•.• ·T·h·is• ·is• ·a• ·f·o·u·r·t·h• s·en·t·en·c·e•.·\n",
      "•T·h·is• ·is• ·a• ·f·i·f·t·h• s·en·t·en·c·e•.• ·T·h·is• ·is• ·a• s·i·x·t·h• s·en·t·en·c·e•.• ·T·h·is• ·is• ·a• s·e·v·en·t·h• s·en·t·en·c·e•.\n",
      "Added token  is with count 7\n",
      "H·e·l·l·o•,• ·w·o·r·l·d•!• ·Th·is• · ·#·$·#· • ·is•_•a•-•t·e·s·t•.• ·1•2•3•4•.• ·Th·is• ·is• ·a·n·o·t·h·e·r• s·en·t·en·c·e•.· ·\n",
      "•Th·is• ·is• ·a• ·t·h·i·r·d• s·en·t·en·c·e•.• ·Th·is• ·is• ·a• ·f·o·u·r·t·h• s·en·t·en·c·e•.·\n",
      "•Th·is• ·is• ·a• ·f·i·f·t·h• s·en·t·en·c·e•.• ·Th·is• ·is• ·a• s·i·x·t·h• s·en·t·en·c·e•.• ·Th·is• ·is• ·a• s·e·v·en·t·h• s·en·t·en·c·e•.\n",
      "Added token ent with count 7\n",
      "H·e·l·l·o•,• ·w·o·r·l·d•!• ·Th·is• · ·#·$·#· • is•_•a•-•t·e·s·t•.• ·1•2•3•4•.• ·Th·is• is• ·a·n·o·t·h·e·r• s·en·t·en·c·e•.· ·\n",
      "•Th·is• is• ·a• ·t·h·i·r·d• s·en·t·en·c·e•.• ·Th·is• is• ·a• ·f·o·u·r·t·h• s·en·t·en·c·e•.·\n",
      "•Th·is• is• ·a• ·f·i·f·t·h• s·en·t·en·c·e•.• ·Th·is• is• ·a• s·i·x·t·h• s·en·t·en·c·e•.• ·Th·is• is• ·a• s·e·v·en·t·h• s·en·t·en·c·e•.\n",
      "Added token This with count 7\n",
      "H·e·l·l·o•,• ·w·o·r·l·d•!• ·Th·is• · ·#·$·#· • is•_•a•-•t·e·s·t•.• ·1•2•3•4•.• ·Th·is• is• ·a·n·o·t·h·e·r• s·ent·en·c·e•.· ·\n",
      "•Th·is• is• ·a• ·t·h·i·r·d• s·ent·en·c·e•.• ·Th·is• is• ·a• ·f·o·u·r·t·h• s·ent·en·c·e•.·\n",
      "•Th·is• is• ·a• ·f·i·f·t·h• s·ent·en·c·e•.• ·Th·is• is• ·a• s·i·x·t·h• s·ent·en·c·e•.• ·Th·is• is• ·a• s·e·v·ent·h• s·ent·en·c·e•.\n",
      "Added token  a with count 6\n",
      "H·e·l·l·o•,• ·w·o·r·l·d•!• ·This• · ·#·$·#· • is•_•a•-•t·e·s·t•.• ·1•2•3•4•.• ·This• is• ·a·n·o·t·h·e·r• s·ent·en·c·e•.· ·\n",
      "•This• is• ·a• ·t·h·i·r·d• s·ent·en·c·e•.• ·This• is• ·a• ·f·o·u·r·t·h• s·ent·en·c·e•.·\n",
      "•This• is• ·a• ·f·i·f·t·h• s·ent·en·c·e•.• ·This• is• ·a• s·i·x·t·h• s·ent·en·c·e•.• ·This• is• ·a• s·e·v·ent·h• s·ent·en·c·e•.\n",
      "Added token ce with count 6\n",
      "H·e·l·l·o•,• ·w·o·r·l·d•!• ·This• · ·#·$·#· • is•_•a•-•t·e·s·t•.• ·1•2•3•4•.• ·This• is• a·n·o·t·h·e·r• s·ent·en·c·e•.· ·\n",
      "•This• is• a• ·t·h·i·r·d• s·ent·en·c·e•.• ·This• is• a• ·f·o·u·r·t·h• s·ent·en·c·e•.·\n",
      "•This• is• a• ·f·i·f·t·h• s·ent·en·c·e•.• ·This• is• a• s·i·x·t·h• s·ent·en·c·e•.• ·This• is• a• s·e·v·ent·h• s·ent·en·c·e•.\n",
      "Added token  sent with count 6\n",
      "H·e·l·l·o•,• ·w·o·r·l·d•!• ·This• · ·#·$·#· • is•_•a•-•t·e·s·t•.• ·1•2•3•4•.• ·This• is• a·n·o·t·h·e·r• s·ent·en·ce•.· ·\n",
      "•This• is• a• ·t·h·i·r·d• s·ent·en·ce•.• ·This• is• a• ·f·o·u·r·t·h• s·ent·en·ce•.·\n",
      "•This• is• a• ·f·i·f·t·h• s·ent·en·ce•.• ·This• is• a• s·i·x·t·h• s·ent·en·ce•.• ·This• is• a• s·e·v·ent·h• s·ent·en·ce•.\n",
      "Added token ence with count 6\n",
      "H·e·l·l·o•,• ·w·o·r·l·d•!• ·This• · ·#·$·#· • is•_•a•-•t·e·s·t•.• ·1•2•3•4•.• ·This• is• a·n·o·t·h·e·r• sent·en·ce•.· ·\n",
      "•This• is• a• ·t·h·i·r·d• sent·en·ce•.• ·This• is• a• ·f·o·u·r·t·h• sent·en·ce•.·\n",
      "•This• is• a• ·f·i·f·t·h• sent·en·ce•.• ·This• is• a• s·i·x·t·h• sent·en·ce•.• ·This• is• a• s·e·v·ent·h• sent·en·ce•.\n",
      "Added token  sentence with count 6\n",
      "H·e·l·l·o•,• ·w·o·r·l·d•!• ·This• · ·#·$·#· • is•_•a•-•t·e·s·t•.• ·1•2•3•4•.• ·This• is• a·n·o·t·h·e·r• sent·ence•.· ·\n",
      "•This• is• a• ·t·h·i·r·d• sent·ence•.• ·This• is• a• ·f·o·u·r·t·h• sent·ence•.·\n",
      "•This• is• a• ·f·i·f·t·h• sent·ence•.• ·This• is• a• s·i·x·t·h• sent·ence•.• ·This• is• a• s·e·v·ent·h• sent·ence•.\n",
      "Added token th with count 5\n",
      "H·e·l·l·o•,• ·w·o·r·l·d•!• ·This• · ·#·$·#· • is•_•a•-•t·e·s·t•.• ·1•2•3•4•.• ·This• is• a·n·o·t·h·e·r• sentence•.· ·\n",
      "•This• is• a• ·t·h·i·r·d• sentence•.• ·This• is• a• ·f·o·u·r·t·h• sentence•.·\n",
      "•This• is• a• ·f·i·f·t·h• sentence•.• ·This• is• a• s·i·x·t·h• sentence•.• ·This• is• a• s·e·v·ent·h• sentence•.\n",
      "Added token  This with count 5\n",
      "H·e·l·l·o•,• ·w·o·r·l·d•!• ·This• · ·#·$·#· • is•_•a•-•t·e·s·t•.• ·1•2•3•4•.• ·This• is• a·n·o·th·e·r• sentence•.· ·\n",
      "•This• is• a• ·th·i·r·d• sentence•.• ·This• is• a• ·f·o·u·r·th• sentence•.·\n",
      "•This• is• a• ·f·i·f·th• sentence•.• ·This• is• a• s·i·x·th• sentence•.• ·This• is• a• s·e·v·ent·h• sentence•.\n",
      "Added token  f with count 2\n",
      "H·e·l·l·o•,• ·w·o·r·l·d•!• This• · ·#·$·#· • is•_•a•-•t·e·s·t•.• ·1•2•3•4•.• This• is• a·n·o·th·e·r• sentence•.· ·\n",
      "•This• is• a• ·th·i·r·d• sentence•.• This• is• a• ·f·o·u·r·th• sentence•.·\n",
      "•This• is• a• ·f·i·f·th• sentence•.• This• is• a• s·i·x·th• sentence•.• This• is• a• s·e·v·ent·h• sentence•.\n",
      "No more pairs with count > 1\n",
      "{'H': 0, ',': 0, '!': 0, ' ': 0, 'ent': 7, ' s': 8, 'w': 0, '4': 0, ' f': 2, ' This': 5, 'ence': 6, '3': 0, '\\n': 0, 'a': 0, ' sentence': 6, 'e': 0, '.': 0, 'is': 14, 't': 0, '#': 0, '-': 0, 'r': 0, 'f': 0, 'h': 0, 'v': 0, 'ce': 6, ' is': 7, '2': 0, '1': 0, 'o': 0, 'u': 0, 'Th': 7, ' sent': 6, '$': 0, 'x': 0, '_': 0, 's': 0, 'T': 0, ' a': 6, 'th': 5, 'd': 0, 'n': 0, 'c': 0, 'en': 13, 'i': 0, 'l': 0, 'This': 7}\n"
     ]
    }
   ],
   "source": [
    "print(train_bpe(s, 60))"
   ]
  },
  {
   "cell_type": "code",
   "execution_count": 30,
   "metadata": {},
   "outputs": [
    {
     "name": "stdout",
     "output_type": "stream",
     "text": [
      "1 472 16\n",
      "2 920 48\n",
      "3 1432 144\n",
      "4 1912 208\n",
      "5 2200 80\n",
      "6 2872 336\n",
      "7 3256 304\n",
      "8 3704 336\n",
      "9 4216 432\n",
      "10 4216 16\n",
      "11 4792 176\n",
      "12 5432 400\n",
      "13 6136 688\n",
      "14 6136 272\n",
      "15 6936 656\n",
      "16 6936 240\n",
      "17 7832 720\n",
      "18 7832 304\n",
      "19 8856 912\n",
      "20 8856 496\n",
      "21 8856 80\n",
      "22 10008 816\n",
      "23 10008 400\n",
      "24 11288 1264\n",
      "25 11288 848\n",
      "26 11288 432\n",
      "27 11288 16\n",
      "28 12728 1040\n",
      "29 12728 624\n"
     ]
    }
   ],
   "source": [
    "from sys import getsizeof\n",
    "\n",
    "for i in range(1, 30):\n",
    "    list_size = getsizeof(list(stream_words(s * i))) \n",
    "    print(i, list_size, list_size - getsizeof(tuple(stream_words(s*i))))"
   ]
  }
 ],
 "metadata": {
  "kernelspec": {
   "display_name": "Python 3",
   "language": "python",
   "name": "python3"
  },
  "language_info": {
   "codemirror_mode": {
    "name": "ipython",
    "version": 3
   },
   "file_extension": ".py",
   "mimetype": "text/x-python",
   "name": "python",
   "nbconvert_exporter": "python",
   "pygments_lexer": "ipython3",
   "version": "3.10.9"
  },
  "orig_nbformat": 4,
  "vscode": {
   "interpreter": {
    "hash": "e7370f93d1d0cde622a1f8e1c04877d8463912d04d973331ad4851f04de6915a"
   }
  }
 },
 "nbformat": 4,
 "nbformat_minor": 2
}
